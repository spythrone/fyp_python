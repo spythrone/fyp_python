{
 "cells": [
  {
   "cell_type": "code",
   "execution_count": 70,
   "metadata": {},
   "outputs": [],
   "source": [
    "from PIL import Image\n",
    "import shutil\n",
    "import cv2 as cv\n",
    "import os\n",
    "from sklearn.utils import shuffle\n",
    "import torch , torchvision\n",
    "import pandas as pd\n",
    "import numpy as np\n",
    "import matplotlib.pyplot as plt\n",
    "from torch.utils.data import DataLoader , Dataset\n",
    "from torchvision import transforms, utils\n",
    "from torch.utils.data.sampler import SubsetRandomSampler\n",
    "from torch import nn\n",
    "from torch import optim\n",
    "import torch.nn.functional as F\n",
    "import warnings\n",
    "warnings.filterwarnings(\"ignore\")\n",
    "\n",
    "plt.ion()\n",
    "\n",
    "%matplotlib inline"
   ]
  },
  {
   "cell_type": "code",
   "execution_count": 71,
   "metadata": {},
   "outputs": [],
   "source": [
    "class_new = ['anger', 'surprise', 'disgust', 'neutral', 'happiness',\n",
    "       'sadness']"
   ]
  },
  {
   "cell_type": "code",
   "execution_count": 72,
   "metadata": {},
   "outputs": [],
   "source": [
    "class_new_val = {'anger':0, 'surprise':1, 'disgust':2, 'neutral':3, 'happiness':4,\n",
    "       'sadness':5}"
   ]
  },
  {
   "cell_type": "code",
   "execution_count": 73,
   "metadata": {},
   "outputs": [],
   "source": [
    "data_transform = transforms.Compose([\n",
    "        transforms.ToTensor(),\n",
    "        transforms.ToPILImage(),\n",
    "        transforms.Resize([128,128]),\n",
    "        transforms.Grayscale(num_output_channels=1),\n",
    "        transforms.RandomHorizontalFlip(),                                \n",
    "        transforms.ToTensor(),\n",
    "        transforms.Normalize(mean=[0.5],std=[0.5]),\n",
    "    ])"
   ]
  },
  {
   "cell_type": "code",
   "execution_count": 74,
   "metadata": {},
   "outputs": [],
   "source": [
    "class ImageDataset(Dataset):\n",
    "  def __init__(self, csv_file, root_dir, transform=None):\n",
    "    self.frame = pd.read_csv(csv_file)\n",
    "    self.root_dir = root_dir\n",
    "    self.transform = transform\n",
    "    \n",
    "  def __len__(self):\n",
    "    return len(self.frame)\n",
    "  \n",
    "  def __getitem__(self, idx):\n",
    "    img_name = os.path.join(self.root_dir,self.frame.iloc[idx, 0])\n",
    "    image = Image.open(img_name)\n",
    "    sample = [ image, self.frame.iloc[idx,1]]\n",
    "    if self.transform:\n",
    "      sample[0] = self.transform(sample[0])\n",
    "    return sample"
   ]
  },
  {
   "cell_type": "code",
   "execution_count": 75,
   "metadata": {},
   "outputs": [
    {
     "name": "stdout",
     "output_type": "stream",
     "text": [
      "0 torch.Size([1, 128, 128]) 0\n",
      "1 torch.Size([1, 128, 128]) 5\n",
      "2 torch.Size([1, 128, 128]) 2\n",
      "3 torch.Size([1, 128, 128]) 2\n",
      "4 torch.Size([1, 128, 128]) 1\n",
      "5 torch.Size([1, 128, 128]) 3\n",
      "6 torch.Size([1, 128, 128]) 5\n",
      "7 torch.Size([1, 128, 128]) 4\n",
      "8 torch.Size([1, 128, 128]) 0\n",
      "9 torch.Size([1, 128, 128]) 3\n",
      "10 torch.Size([1, 128, 128]) 0\n"
     ]
    }
   ],
   "source": [
    "face_dataset = ImageDataset(csv_file='new.csv' , root_dir='images_dataset' , transform = data_transform)\n",
    "for i in range(len(face_dataset)):\n",
    "    sample = face_dataset[i]\n",
    "    print(i, sample[0].shape, sample[1])\n",
    "    if i == 10:\n",
    "        plt.show()\n",
    "        break"
   ]
  },
  {
   "cell_type": "code",
   "execution_count": 76,
   "metadata": {},
   "outputs": [],
   "source": [
    "num_workers = 0\n",
    "batch_size = 30\n",
    "valid_size = 0.2\n",
    "test_size = 0.1\n",
    "num_train = len(face_dataset)\n",
    "indices = list(range(num_train))\n",
    "np.random.shuffle(indices)\n",
    "valid_set = int(np.floor(valid_size * num_train))\n",
    "test_set  = int(np.floor(test_size * num_train))\n",
    "test_idx,valid_idx , train_idx = indices[:test_set], indices[test_set:test_set+valid_set] , indices[test_set+valid_set :] \n",
    "                                                                                                   \n"
   ]
  },
  {
   "cell_type": "code",
   "execution_count": 77,
   "metadata": {},
   "outputs": [],
   "source": [
    "train_sampler = SubsetRandomSampler(train_idx)\n",
    "valid_sampler = SubsetRandomSampler(valid_idx)\n",
    "test_sampler = SubsetRandomSampler(test_idx)\n",
    "\n",
    "\n",
    "train_loader = torch.utils.data.DataLoader(face_dataset, batch_size=batch_size,\n",
    "    sampler=train_sampler, num_workers=num_workers)\n",
    "valid_loader = torch.utils.data.DataLoader(face_dataset, batch_size=batch_size, \n",
    "    sampler=valid_sampler, num_workers=num_workers)\n",
    "test_loader = torch.utils.data.DataLoader(face_dataset, batch_size=batch_size, \n",
    "    num_workers=num_workers)"
   ]
  },
  {
   "cell_type": "code",
   "execution_count": 78,
   "metadata": {},
   "outputs": [
    {
     "name": "stdout",
     "output_type": "stream",
     "text": [
      "CUDA is not available.  Training on CPU ...\n"
     ]
    }
   ],
   "source": [
    "\n",
    "train_on_gpu = torch.cuda.is_available()\n",
    "\n",
    "if not train_on_gpu:\n",
    "    print('CUDA is not available.  Training on CPU ...')\n",
    "else:\n",
    "    print('CUDA is available!  Training on GPU ...')"
   ]
  },
  {
   "cell_type": "code",
   "execution_count": 79,
   "metadata": {},
   "outputs": [
    {
     "name": "stdout",
     "output_type": "stream",
     "text": [
      "Net(\n",
      "  (conv1): Conv2d(1, 16, kernel_size=(3, 3), stride=(1, 1), padding=(1, 1))\n",
      "  (conv2): Conv2d(16, 32, kernel_size=(3, 3), stride=(1, 1), padding=(1, 1))\n",
      "  (conv3): Conv2d(32, 64, kernel_size=(3, 3), stride=(1, 1), padding=(1, 1))\n",
      "  (pool): MaxPool2d(kernel_size=2, stride=2, padding=0, dilation=1, ceil_mode=False)\n",
      "  (fc1): Linear(in_features=16384, out_features=500, bias=True)\n",
      "  (fc2): Linear(in_features=500, out_features=6, bias=True)\n",
      "  (dropout): Dropout(p=0.25)\n",
      ")\n"
     ]
    }
   ],
   "source": [
    "class Net(nn.Module):\n",
    "    def __init__(self):\n",
    "        super(Net, self).__init__()\n",
    "        self.conv1 = nn.Conv2d(1, 16, 3, padding=1)\n",
    "        self.conv2 = nn.Conv2d(16, 32, 3, padding=1)\n",
    "        self.conv3 = nn.Conv2d(32, 64, 3, padding=1)\n",
    "        self.pool = nn.MaxPool2d(2, 2)\n",
    "        self.fc1 = nn.Linear(64 * 16 * 16, 500)\n",
    "        self.fc2 = nn.Linear(500, 6)\n",
    "        self.dropout = nn.Dropout(0.25)\n",
    "\n",
    "    def forward(self, x):\n",
    "        x = self.pool(F.relu(self.conv1(x)))\n",
    "        x = self.pool(F.relu(self.conv2(x)))\n",
    "        x = self.pool(F.relu(self.conv3(x)))\n",
    "        x = x.view(-1, 64 * 16 * 16)\n",
    "        x = self.dropout(x)\n",
    "        x = F.relu(self.fc1(x))\n",
    "        x = self.dropout(x)\n",
    "        x = self.fc2(x)\n",
    "        return x\n",
    "\n",
    "model = Net()\n",
    "# model.cuda()\n",
    "print(model)"
   ]
  },
  {
   "cell_type": "code",
   "execution_count": 80,
   "metadata": {},
   "outputs": [],
   "source": [
    "criterion = nn.CrossEntropyLoss()\n",
    "optimizer = optim.SGD(model.parameters(), lr=0.01)"
   ]
  },
  {
   "cell_type": "code",
   "execution_count": 81,
   "metadata": {},
   "outputs": [
    {
     "data": {
      "text/plain": [
       "Net(\n",
       "  (conv1): Conv2d(1, 16, kernel_size=(3, 3), stride=(1, 1), padding=(1, 1))\n",
       "  (conv2): Conv2d(16, 32, kernel_size=(3, 3), stride=(1, 1), padding=(1, 1))\n",
       "  (conv3): Conv2d(32, 64, kernel_size=(3, 3), stride=(1, 1), padding=(1, 1))\n",
       "  (pool): MaxPool2d(kernel_size=2, stride=2, padding=0, dilation=1, ceil_mode=False)\n",
       "  (fc1): Linear(in_features=16384, out_features=500, bias=True)\n",
       "  (fc2): Linear(in_features=500, out_features=6, bias=True)\n",
       "  (dropout): Dropout(p=0.25)\n",
       ")"
      ]
     },
     "execution_count": 81,
     "metadata": {},
     "output_type": "execute_result"
    }
   ],
   "source": [
    "model_new = Net()\n",
    "model_new.load_state_dict(torch.load(\"model_augmented.pt\"))\n",
    "model_new.eval()"
   ]
  },
  {
   "cell_type": "code",
   "execution_count": 82,
   "metadata": {},
   "outputs": [
    {
     "name": "stdout",
     "output_type": "stream",
     "text": [
      "Model's state_dict:\n",
      "conv1.weight \t torch.Size([16, 1, 3, 3])\n",
      "conv1.bias \t torch.Size([16])\n",
      "conv2.weight \t torch.Size([32, 16, 3, 3])\n",
      "conv2.bias \t torch.Size([32])\n",
      "conv3.weight \t torch.Size([64, 32, 3, 3])\n",
      "conv3.bias \t torch.Size([64])\n",
      "fc1.weight \t torch.Size([500, 16384])\n",
      "fc1.bias \t torch.Size([500])\n",
      "fc2.weight \t torch.Size([6, 500])\n",
      "fc2.bias \t torch.Size([6])\n",
      "Optimizer's state_dict:\n",
      "state \t {}\n",
      "param_groups \t [{'lr': 0.01, 'momentum': 0, 'dampening': 0, 'weight_decay': 0, 'nesterov': False, 'params': [139636312820688, 139636312820832, 139636312820760, 139636312821120, 139636312818024, 139636312821552, 139636312818456, 139636312817736, 139636312817952, 139636312818744]}]\n"
     ]
    }
   ],
   "source": [
    "print(\"Model's state_dict:\")\n",
    "for param_tensor in model_new.state_dict():\n",
    "    print(param_tensor, \"\\t\", model_new.state_dict()[param_tensor].size())\n",
    "\n",
    "print(\"Optimizer's state_dict:\")\n",
    "for var_name in optimizer.state_dict():\n",
    "    print(var_name, \"\\t\", optimizer.state_dict()[var_name])"
   ]
  },
  {
   "cell_type": "code",
   "execution_count": 83,
   "metadata": {},
   "outputs": [
    {
     "name": "stdout",
     "output_type": "stream",
     "text": [
      "Test Loss: 1.053354\n",
      "\n",
      "Test Accuracy of anger: 67% \n",
      "Test Accuracy of surprise: 65% \n",
      "Test Accuracy of disgust: 67% \n",
      "Test Accuracy of neutral: 43% \n",
      "Test Accuracy of happiness: 71% \n",
      "Test Accuracy of sadness: 53% \n",
      "\n",
      "Test Accuracy (Overall): 61%\n"
     ]
    }
   ],
   "source": [
    "test_loss = 0.0\n",
    "class_correct = list(0. for i in range(6))\n",
    "class_total = list(0. for i in range(6))\n",
    "\n",
    "model_new.eval()\n",
    "for data, target in test_loader:\n",
    "    if train_on_gpu:\n",
    "        data, target = data.cuda(), target.cuda()\n",
    "    output = model_new(data)\n",
    "    loss = criterion(output, target)\n",
    "    test_loss += loss.item()*data.size(0)\n",
    "    _, pred = torch.max(output, 1)    \n",
    "    correct_tensor = pred.eq(target.data.view_as(pred))\n",
    "    correct = np.squeeze(correct_tensor.numpy()) if not train_on_gpu else np.squeeze(correct_tensor.cpu().numpy())\n",
    "    for i in range(batch_size):\n",
    "        label = target.data[i]\n",
    "        class_correct[label] += correct[i].item()\n",
    "        class_total[label] += 1\n",
    "        \n",
    "\n",
    "\n",
    "test_loss = test_loss/len(test_loader.dataset)\n",
    "print('Test Loss: {:.6f}\\n'.format(test_loss))\n",
    "\n",
    "for i in range(6):\n",
    "    if class_total[i] > 0:\n",
    "        print('Test Accuracy of %5s: %2d%% ' % (\n",
    "            class_new[i], 100 * class_correct[i] / class_total[i]))\n",
    "    else:\n",
    "        print('Test Accuracy of %5s: N/A (no training examples)' % (class_new[i]))\n",
    "\n",
    "print('\\nTest Accuracy (Overall): %2d%%' % (\n",
    "    100. * np.sum(class_correct) / np.sum(class_total)))"
   ]
  }
 ],
 "metadata": {
  "kernelspec": {
   "display_name": "Python 3",
   "language": "python",
   "name": "python3"
  },
  "language_info": {
   "codemirror_mode": {
    "name": "ipython",
    "version": 3
   },
   "file_extension": ".py",
   "mimetype": "text/x-python",
   "name": "python",
   "nbconvert_exporter": "python",
   "pygments_lexer": "ipython3",
   "version": "3.6.5"
  }
 },
 "nbformat": 4,
 "nbformat_minor": 2
}
